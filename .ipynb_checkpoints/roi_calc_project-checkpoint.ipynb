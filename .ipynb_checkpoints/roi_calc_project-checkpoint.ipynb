{
 "cells": [
  {
   "cell_type": "code",
   "execution_count": null,
   "id": "f0ec0947",
   "metadata": {},
   "outputs": [],
   "source": [
    "class RentalProperty:\n",
    "    def __init__(self, address, house_cost, rental_income, expenses, prop_id):\n",
    "        self.address = address\n",
    "        self.house_cost = house_cost\n",
    "        self.rental_income = rental_income\n",
    "        self.expenses = expenses\n",
    "        self.prop_id = prop_id\n",
    "\n",
    "    def cash_flow(self): #method that calculates the cash flow of a property\n",
    "        total_exp = sum(self.expenses.values()) #sums up all expenses \n",
    "        return self.rental_income - total_exp #subtracts total exp from rental income\n",
    "\n",
    "    def cash_on_cash(self, down_pay, closing_cost, rehab_exp, misc):#method to figure out roi \n",
    "        annual_cash = 12 * self.cash_flow() #takes the above cash flow * by 12 to get the annual \n",
    "        total_inv = self.house_cost + closing_cost + rehab_exp + misc - down_pay #adds up all upfront costs - down payment\n",
    "        return 100 * annual_cash / total_inv #returns the roi % by * by 100\n",
    "\n"
   ]
  },
  {
   "cell_type": "code",
   "execution_count": null,
   "id": "56b8e221",
   "metadata": {},
   "outputs": [],
   "source": [
    "class User: #made a class to represent different users and there properties.\n",
    "    def __init__(self, name):\n",
    "        self.name = name #users name\n",
    "        self.properties = {} #dict to store each users property if there are multiple\n",
    "\n",
    "    def add_prop(self, address, house_cost, rental_income, expenses, prop_id): #method adding to prop dict. \n",
    "        prop = RentalProperty(address, house_cost, rental_income, expenses, prop_id.lower()) #creates instance of Class Rental Prop\n",
    "        self.properties[prop_id.lower()] = prop #prop id is the key. \n",
    "\n",
    "    def remove_prop(self, prop_id): #method to remove a users property\n",
    "        if prop_id.lower() in self.properties:\n",
    "            del self.properties[prop_id.lower()]\n",
    "            return True\n",
    "        else:\n",
    "            return False\n",
    "\n",
    "#     def roi_calc(self, prop_id, down_pay, closing_cost, rehab_exp, misc): #metohod to calculate roi for specifi proper(prop id)\n",
    "#         if prop_id.lower() in self.properties:\n",
    "#             prop = self.properties[prop_id.lower()]\n",
    "#             return prop.cash_on_cash(down_pay, closing_cost, rehab_exp, misc)\n",
    "#         else:\n",
    "#             return None\n"
   ]
  },
  {
   "cell_type": "code",
   "execution_count": null,
   "id": "3d042a34",
   "metadata": {},
   "outputs": [],
   "source": []
  }
 ],
 "metadata": {
  "kernelspec": {
   "display_name": "Python 3 (ipykernel)",
   "language": "python",
   "name": "python3"
  },
  "language_info": {
   "codemirror_mode": {
    "name": "ipython",
    "version": 3
   },
   "file_extension": ".py",
   "mimetype": "text/x-python",
   "name": "python",
   "nbconvert_exporter": "python",
   "pygments_lexer": "ipython3",
   "version": "3.10.9"
  }
 },
 "nbformat": 4,
 "nbformat_minor": 5
}
